{
 "cells": [
  {
   "cell_type": "code",
   "execution_count": 20,
   "metadata": {
    "collapsed": true
   },
   "outputs": [],
   "source": [
    "# NOTE: Images must already be in './image/' directory. This can be done using the query_bing_images.py script\n",
    "#%load preprocess_images.py\n",
    "import numpy as np\n",
    "import Image\n",
    "import os\n",
    "\n",
    "# Standard size to normalize everything to the same shape\n",
    "STANDARD_SIZE = (300, 167)\n",
    "def img_to_matrix(filename, verbose=False):\n",
    "    \"\"\" \n",
    "    Turns filename into numpy array of RGB pixels\n",
    "    \"\"\"\n",
    "    img = Image.open(filename)\n",
    "    if verbose==True:\n",
    "        print \"Changing size from %s to %s\" % (str(img.size), str(STANDARD_SIZE))\n",
    "    img = img.resize(STANDARD_SIZE)\n",
    "    img = list(img.getdata())\n",
    "    img = map(list, img)\n",
    "    img = np.array(img)\n",
    "    return img\n",
    "\n",
    "def flatten_image(img):\n",
    "    \"\"\" \n",
    "    Takes in (m,n) numpy array and flattens it into an array of shape (1, m*n)\n",
    "    \"\"\"\n",
    "    s = img.shape[0] * img.shape[1]\n",
    "    img_wide = img.reshape(1, s)\n",
    "    return img_wide[0]"
   ]
  },
  {
   "cell_type": "code",
   "execution_count": 16,
   "metadata": {
    "collapsed": false
   },
   "outputs": [],
   "source": [
    "# %load processing_all_the_images.py\n",
    "img_dir = \"images/\"\n",
    "images = [img_dir + f for f in os.listdir(img_dir)]\n",
    "labels = [\"check\" if \"check\" in f.split('/')[-1] else \"drivers_license\" for f in images]\n",
    "\n",
    "data = []\n",
    "for image in images:\n",
    "    img = img_to_matrix(image)\n",
    "    img = flatten_image(img)\n",
    "    data.append(img)\n",
    "\n",
    "data = np.array(data)"
   ]
  },
  {
   "cell_type": "code",
   "execution_count": 26,
   "metadata": {
    "collapsed": false
   },
   "outputs": [
    {
     "name": "stdout",
     "output_type": "stream",
     "text": [
      "209\n"
     ]
    }
   ],
   "source": []
  },
  {
   "cell_type": "code",
   "execution_count": 18,
   "metadata": {
    "collapsed": false
   },
   "outputs": [
    {
     "name": "stdout",
     "output_type": "stream",
     "text": [
      "[[221 221 221 ..., 221 221 221]\n",
      " [221 221 221 ..., 221 221 221]\n",
      " [221 221 221 ..., 221 221 221]\n",
      " ..., \n",
      " [221 221 221 ..., 221 221 221]\n",
      " [221 221 221 ..., 221 221 221]\n",
      " [221 221 221 ..., 221 221 221]]\n"
     ]
    }
   ],
   "source": []
  },
  {
   "cell_type": "code",
   "execution_count": null,
   "metadata": {
    "collapsed": true
   },
   "outputs": [],
   "source": []
  }
 ],
 "metadata": {
  "kernelspec": {
   "display_name": "Python 2",
   "language": "python",
   "name": "python2"
  },
  "language_info": {
   "codemirror_mode": {
    "name": "ipython",
    "version": 2
   },
   "file_extension": ".py",
   "mimetype": "text/x-python",
   "name": "python",
   "nbconvert_exporter": "python",
   "pygments_lexer": "ipython2",
   "version": "2.7.6"
  }
 },
 "nbformat": 4,
 "nbformat_minor": 0
}
