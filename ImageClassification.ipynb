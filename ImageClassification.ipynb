{
 "cells": [
  {
   "cell_type": "code",
   "execution_count": 55,
   "metadata": {
    "collapsed": true
   },
   "outputs": [],
   "source": [
    "# NOTE: Images must already be in './image/' directory. This can be done using the query_bing_images.py script\n",
    "\n",
    "#%load preprocess_images.py\n",
    "import numpy as np\n",
    "import Image\n",
    "import os\n",
    "\n",
    "STANDARD_SIZE = (300, 167)\n",
    "def img_to_matrix(filename, verbose=False):\n",
    "    \"\"\" \n",
    "    Turns filename into numpy array of RGB pixels\n",
    "    \"\"\"\n",
    "    img = Image.open(filename)\n",
    "    if verbose==True:\n",
    "        print \"Changing size from %s to %s\" % (str(img.size), str(STANDARD_SIZE))\n",
    "    img = img.resize(STANDARD_SIZE)\n",
    "    img = list(img.getdata())\n",
    "    img = map(list, img)\n",
    "    img = np.array(img)\n",
    "    return img\n",
    "\n",
    "def flatten_image(img):\n",
    "    \"\"\" \n",
    "    Takes in (m,n) numpy array and flattens it into an array of shape (1, m*n)\n",
    "    \"\"\"\n",
    "    s = img.shape[0] * img.shape[1]\n",
    "    img_wide = img.reshape(1, s)\n",
    "    return img_wide[0]"
   ]
  },
  {
   "cell_type": "code",
   "execution_count": 56,
   "metadata": {
    "collapsed": false
   },
   "outputs": [],
   "source": [
    "# %load processing_all_the_images.py\n",
    "img_dir = \"images/\"\n",
    "images = [img_dir + f for f in os.listdir(img_dir)]\n",
    "labels = [\"check\" if \"check\" in f.split('/')[-1] else \"drivers_license\" for f in images]\n",
    "\n",
    "data = []\n",
    "for image in images:\n",
    "    img = img_to_matrix(image)\n",
    "    img = flatten_image(img)\n",
    "    data.append(img)\n",
    "\n",
    "data = np.array(data)"
   ]
  },
  {
   "cell_type": "code",
   "execution_count": 57,
   "metadata": {
    "collapsed": false
   },
   "outputs": [
    {
     "name": "stdout",
     "output_type": "stream",
     "text": [
      "              label             x             y\n",
      "0             check   8174.441118   6117.749615\n",
      "1             check   9253.592719  10348.001487\n",
      "2             check   9252.294724  10344.699792\n",
      "3             check   2939.646777   8086.697761\n",
      "4             check  -1304.963526   5604.346280\n",
      "5   drivers_license   4210.159544  -4605.140747\n",
      "6   drivers_license   8568.823817   9340.143134\n",
      "7   drivers_license   8290.818792   2066.060728\n",
      "8             check   5896.116411  -3300.048806\n",
      "9   drivers_license   -766.156756 -12465.612082\n",
      "10  drivers_license   9141.046664   4486.709497\n",
      "11            check  10384.756851   9866.666029\n",
      "12            check   8401.607628   2225.719224\n",
      "13  drivers_license  -2408.230740 -20017.116166\n",
      "14            check  -7141.546174  -3620.065401\n",
      "15            check -12319.673512   8972.425840\n",
      "16            check -23013.263842   5194.637467\n",
      "17            check  -1291.756803   4886.403818\n",
      "18  drivers_license   1077.268877 -10578.351833\n",
      "19  drivers_license   9229.999768   4916.971615\n",
      "20  drivers_license   6512.187207  -4481.088483\n",
      "21  drivers_license  -5562.184768 -36668.182155\n",
      "22            check   5181.177340  -3242.027610\n",
      "23            check -22841.345123   5078.323879\n",
      "24  drivers_license   2154.066660  -3178.076535\n",
      "25  drivers_license   3627.957172 -11153.620522\n",
      "26  drivers_license   1268.383090 -21352.802135\n",
      "27  drivers_license   2759.704589 -15222.692406\n",
      "28  drivers_license  10111.145409    709.082834\n",
      "29  drivers_license   9721.810419   6216.355243\n",
      "30            check   9250.671561  10347.978672\n",
      "31            check -26761.568660     85.295377\n",
      "32            check   7718.574295   3469.522192\n",
      "33            check -26761.300279     87.316588\n",
      "34            check   9040.643074   6586.577176\n",
      "35  drivers_license  10336.120840   6691.805462\n",
      "36  drivers_license   2175.597735 -11842.900406\n",
      "37  drivers_license   5550.482057  -7879.139475\n",
      "38  drivers_license   3353.433239 -17118.964074\n",
      "39            check -23009.533042   5191.650417\n",
      "40  drivers_license   1552.214334  -4526.851946\n",
      "41            check -26761.300279     87.316588\n",
      "42  drivers_license   9430.366277   6166.118790\n",
      "43  drivers_license   5775.630007  -9868.953358\n",
      "44  drivers_license   7752.893541  -1675.169565\n",
      "45  drivers_license   8032.752439   3915.705995\n",
      "46            check   9022.931257   6468.808525\n",
      "47            check -23011.900456   5193.963154\n",
      "48  drivers_license   7975.351363    297.487532\n",
      "49            check   7717.069989   2824.013736\n",
      "50            check -20279.295140   8175.548484\n",
      "51            check  -1655.639066  10075.930638\n",
      "52  drivers_license   7822.007929   3598.754782\n",
      "53            check -22839.780123   5696.502068\n",
      "54            check  -9324.060825   8699.140418\n",
      "55  drivers_license   8389.753602   4676.372868\n",
      "['check', 'check', 'check', 'check', 'check', 'drivers_license', 'drivers_license', 'drivers_license', 'check', 'drivers_license', 'drivers_license', 'check', 'check', 'drivers_license', 'check', 'check', 'check', 'check', 'drivers_license', 'drivers_license', 'drivers_license', 'drivers_license', 'check', 'check', 'drivers_license', 'drivers_license', 'drivers_license', 'drivers_license', 'drivers_license', 'drivers_license', 'check', 'check', 'check', 'check', 'check', 'drivers_license', 'drivers_license', 'drivers_license', 'drivers_license', 'check', 'drivers_license', 'check', 'drivers_license', 'drivers_license', 'drivers_license', 'drivers_license', 'check', 'check', 'drivers_license', 'check', 'check', 'check', 'drivers_license', 'check', 'check', 'drivers_license']\n"
     ]
    }
   ],
   "source": [
    "# %load randomized_pca_2d.py\n",
    "from sklearn.decomposition import RandomizedPCA\n",
    "import pandas as pd\n",
    "import matplotlib.pyplot as pl\n",
    "\n",
    "pca = RandomizedPCA(n_components=2)\n",
    "X = pca.fit_transform(data)\n",
    "df = pd.DataFrame({\"x\": X[:, 0], \"y\": X[:, 1], \"label\":labels})\n",
    "colors = [\"red\", \"yellow\"]\n",
    "for label, color in zip(df['label'].unique(), colors):\n",
    "    mask = df['label']==label\n",
    "    pl.scatter(df[mask]['x'], df[mask]['y'], c=color, label=label)\n",
    "pl.legend()\n",
    "pl.show()"
   ]
  },
  {
   "cell_type": "code",
   "execution_count": null,
   "metadata": {
    "collapsed": true
   },
   "outputs": [],
   "source": []
  }
 ],
 "metadata": {
  "kernelspec": {
   "display_name": "Python 2",
   "language": "python",
   "name": "python2"
  },
  "language_info": {
   "codemirror_mode": {
    "name": "ipython",
    "version": 2
   },
   "file_extension": ".py",
   "mimetype": "text/x-python",
   "name": "python",
   "nbconvert_exporter": "python",
   "pygments_lexer": "ipython2",
   "version": "2.7.6"
  }
 },
 "nbformat": 4,
 "nbformat_minor": 0
}
