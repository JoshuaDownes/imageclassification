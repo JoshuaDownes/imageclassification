{
 "cells": [
  {
   "cell_type": "code",
   "execution_count": 61,
   "metadata": {
    "collapsed": true
   },
   "outputs": [],
   "source": [
    "# NOTE: Images must already be in './image/' directory. This can be done using the query_bing_images.py script\n",
    "\n",
    "#%load preprocess_images.py\n",
    "import numpy as np\n",
    "import Image\n",
    "import os\n",
    "\n",
    "STANDARD_SIZE = (300, 167)\n",
    "def img_to_matrix(filename, verbose=False):\n",
    "    \"\"\" \n",
    "    Turns filename into numpy array of RGB pixels\n",
    "    \"\"\"\n",
    "    img = Image.open(filename)\n",
    "    if verbose==True:\n",
    "        print \"Changing size from %s to %s\" % (str(img.size), str(STANDARD_SIZE))\n",
    "    img = img.resize(STANDARD_SIZE)\n",
    "    img = list(img.getdata())\n",
    "    img = map(list, img)\n",
    "    img = np.array(img)\n",
    "    return img\n",
    "\n",
    "def flatten_image(img):\n",
    "    \"\"\" \n",
    "    Takes in (m,n) numpy array and flattens it into an array of shape (1, m*n)\n",
    "    \"\"\"\n",
    "    s = img.shape[0] * img.shape[1]\n",
    "    img_wide = img.reshape(1, s)\n",
    "    return img_wide[0]"
   ]
  },
  {
   "cell_type": "code",
   "execution_count": 62,
   "metadata": {
    "collapsed": false
   },
   "outputs": [],
   "source": [
    "# %load processing_all_the_images.py\n",
    "img_dir = \"images/\"\n",
    "images = [img_dir + f for f in os.listdir(img_dir)]\n",
    "labels = [\"check\" if \"check\" in f.split('/')[-1] else \"drivers_license\" for f in images]\n",
    "\n",
    "data = []\n",
    "for image in images:\n",
    "    img = img_to_matrix(image)\n",
    "    img = flatten_image(img)\n",
    "    data.append(img)\n",
    "\n",
    "data = np.array(data)"
   ]
  },
  {
   "cell_type": "code",
   "execution_count": 70,
   "metadata": {
    "collapsed": false
   },
   "outputs": [
    {
     "data": {
      "image/png": "[encoded data removed]",
      "text/plain": [
       "<matplotlib.figure.Figure at 0x7fbd42e3d750>"
      ]
     },
     "metadata": {},
     "output_type": "display_data"
    }
   ],
   "source": [
    "# %load randomized_pca_2d.py\n",
    "%matplotlib inline\n",
    "from sklearn.decomposition import RandomizedPCA\n",
    "import pandas as pd\n",
    "import matplotlib.pyplot as pl\n",
    "\n",
    "pca = RandomizedPCA(n_components=2)\n",
    "X = pca.fit_transform(data)\n",
    "df = pd.DataFrame({\"x\": X[:, 0], \"y\": X[:, 1], \"label\":labels})\n",
    "colors = [\"red\", \"yellow\"]\n",
    "for label, color in zip(df['label'].unique(), colors):\n",
    "    mask = df['label']==label\n",
    "    pl.scatter(df[mask]['x'], df[mask]['y'], c=color, label=label)\n",
    "pl.legend()\n",
    "pl.show()"
   ]
  },
  {
   "cell_type": "code",
   "execution_count": 71,
   "metadata": {
    "collapsed": false
   },
   "outputs": [
    {
     "name": "stdout",
     "output_type": "stream",
     "text": [
      "[[ -8174.23506722  -6117.15276721]\n",
      " [ -9253.79864139 -10349.00136385]\n",
      " [ -9252.50151257 -10345.69892813]\n",
      " [ -2939.68590683  -8086.41792099]\n",
      " [  1305.46894932  -5603.97373732]]\n"
     ]
    },
    {
     "ename": "NameError",
     "evalue": "name 'train_y' is not defined",
     "output_type": "error",
     "traceback": [
      "\u001b[1;31m---------------------------------------------------------------------------\u001b[0m",
      "\u001b[1;31mNameError\u001b[0m                                 Traceback (most recent call last)",
      "\u001b[1;32m<ipython-input-71-11e697f191b1>\u001b[0m in \u001b[0;36m<module>\u001b[1;34m()\u001b[0m\n\u001b[0;32m      9\u001b[0m \u001b[1;33m\u001b[0m\u001b[0m\n\u001b[0;32m     10\u001b[0m \u001b[0mknn\u001b[0m \u001b[1;33m=\u001b[0m \u001b[0mKNeighborsClassifier\u001b[0m\u001b[1;33m(\u001b[0m\u001b[1;33m)\u001b[0m\u001b[1;33m\u001b[0m\u001b[0m\n\u001b[1;32m---> 11\u001b[1;33m \u001b[0mknn\u001b[0m\u001b[1;33m.\u001b[0m\u001b[0mfit\u001b[0m\u001b[1;33m(\u001b[0m\u001b[0mtrain_x\u001b[0m\u001b[1;33m,\u001b[0m \u001b[0mtrain_y\u001b[0m\u001b[1;33m)\u001b[0m\u001b[1;33m\u001b[0m\u001b[0m\n\u001b[0m",
      "\u001b[1;31mNameError\u001b[0m: name 'train_y' is not defined"
     ]
    }
   ],
   "source": [
    "# %load train_knn_rpca.py\n",
    "from sklearn.decomposition import RandomizedPCA\n",
    "from sklearn.neighbors import KNeighborsClassifier\n",
    "pca = RandomizedPCA(n_components=5)\n",
    "train_x = pca.fit_transform(X)\n",
    "test_x = pca.transform(X) #This 'X' should be replaced with the test set for X\n",
    "\n",
    "print train_x[:5]\n",
    "\n",
    "knn = KNeighborsClassifier()\n",
    "knn.fit(train_x, train_y)"
   ]
  },
  {
   "cell_type": "code",
   "execution_count": null,
   "metadata": {
    "collapsed": true
   },
   "outputs": [],
   "source": []
  }
 ],
 "metadata": {
  "kernelspec": {
   "display_name": "Python 2",
   "language": "python",
   "name": "python2"
  },
  "language_info": {
   "codemirror_mode": {
    "name": "ipython",
    "version": 2
   },
   "file_extension": ".py",
   "mimetype": "text/x-python",
   "name": "python",
   "nbconvert_exporter": "python",
   "pygments_lexer": "ipython2",
   "version": "2.7.6"
  }
 },
 "nbformat": 4,
 "nbformat_minor": 0
}
